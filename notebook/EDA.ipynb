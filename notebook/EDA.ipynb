{
 "cells": [
  {
   "cell_type": "markdown",
   "metadata": {},
   "source": [
    "## **House Price Prediction**"
   ]
  },
  {
   "cell_type": "markdown",
   "metadata": {},
   "source": [
    "Importing Dependencies"
   ]
  },
  {
   "cell_type": "code",
   "execution_count": 2,
   "metadata": {},
   "outputs": [],
   "source": [
    "import pandas as pd\n",
    "import numpy as np\n",
    "import matplotlib.pyplot as plt\n",
    "import seaborn as sns\n",
    "import warnings\n",
    "warnings.filterwarnings(\"ignore\")"
   ]
  },
  {
   "cell_type": "markdown",
   "metadata": {},
   "source": [
    "Reading the dataset"
   ]
  },
  {
   "cell_type": "code",
   "execution_count": 3,
   "metadata": {},
   "outputs": [],
   "source": [
    "df = pd.read_csv(\"final_df.csv\")"
   ]
  },
  {
   "cell_type": "markdown",
   "metadata": {},
   "source": [
    "Printing 5 rows of the dataset"
   ]
  },
  {
   "cell_type": "code",
   "execution_count": 4,
   "metadata": {},
   "outputs": [
    {
     "data": {
      "text/html": [
       "<div>\n",
       "<style scoped>\n",
       "    .dataframe tbody tr th:only-of-type {\n",
       "        vertical-align: middle;\n",
       "    }\n",
       "\n",
       "    .dataframe tbody tr th {\n",
       "        vertical-align: top;\n",
       "    }\n",
       "\n",
       "    .dataframe thead th {\n",
       "        text-align: right;\n",
       "    }\n",
       "</style>\n",
       "<table border=\"1\" class=\"dataframe\">\n",
       "  <thead>\n",
       "    <tr style=\"text-align: right;\">\n",
       "      <th></th>\n",
       "      <th>Unnamed: 0</th>\n",
       "      <th>image_id</th>\n",
       "      <th>street</th>\n",
       "      <th>citi</th>\n",
       "      <th>n_citi</th>\n",
       "      <th>bed</th>\n",
       "      <th>bath</th>\n",
       "      <th>sqft</th>\n",
       "      <th>price</th>\n",
       "      <th>img_f1</th>\n",
       "      <th>img_f2</th>\n",
       "      <th>img_f3</th>\n",
       "      <th>img_f4</th>\n",
       "      <th>img_f5</th>\n",
       "    </tr>\n",
       "  </thead>\n",
       "  <tbody>\n",
       "    <tr>\n",
       "      <th>0</th>\n",
       "      <td>1</td>\n",
       "      <td>1</td>\n",
       "      <td>124 C Street W</td>\n",
       "      <td>Brawley, CA</td>\n",
       "      <td>48</td>\n",
       "      <td>3</td>\n",
       "      <td>2.0</td>\n",
       "      <td>713</td>\n",
       "      <td>228500</td>\n",
       "      <td>0.0</td>\n",
       "      <td>0.054457</td>\n",
       "      <td>0.0</td>\n",
       "      <td>0.0</td>\n",
       "      <td>0.167603</td>\n",
       "    </tr>\n",
       "    <tr>\n",
       "      <th>1</th>\n",
       "      <td>4</td>\n",
       "      <td>4</td>\n",
       "      <td>2207 R Carrillo Court</td>\n",
       "      <td>Calexico, CA</td>\n",
       "      <td>55</td>\n",
       "      <td>4</td>\n",
       "      <td>3.0</td>\n",
       "      <td>2547</td>\n",
       "      <td>385100</td>\n",
       "      <td>0.0</td>\n",
       "      <td>0.496700</td>\n",
       "      <td>0.0</td>\n",
       "      <td>0.0</td>\n",
       "      <td>0.479637</td>\n",
       "    </tr>\n",
       "    <tr>\n",
       "      <th>2</th>\n",
       "      <td>6</td>\n",
       "      <td>6</td>\n",
       "      <td>1100 CAMILIA Street</td>\n",
       "      <td>Calexico, CA</td>\n",
       "      <td>55</td>\n",
       "      <td>4</td>\n",
       "      <td>3.0</td>\n",
       "      <td>2769</td>\n",
       "      <td>415000</td>\n",
       "      <td>0.0</td>\n",
       "      <td>0.000000</td>\n",
       "      <td>0.0</td>\n",
       "      <td>0.0</td>\n",
       "      <td>0.000000</td>\n",
       "    </tr>\n",
       "    <tr>\n",
       "      <th>3</th>\n",
       "      <td>7</td>\n",
       "      <td>7</td>\n",
       "      <td>803 Chaparral Court</td>\n",
       "      <td>Brawley, CA</td>\n",
       "      <td>48</td>\n",
       "      <td>5</td>\n",
       "      <td>2.1</td>\n",
       "      <td>2600</td>\n",
       "      <td>545000</td>\n",
       "      <td>0.0</td>\n",
       "      <td>5.809244</td>\n",
       "      <td>0.0</td>\n",
       "      <td>0.0</td>\n",
       "      <td>1.086153</td>\n",
       "    </tr>\n",
       "    <tr>\n",
       "      <th>4</th>\n",
       "      <td>8</td>\n",
       "      <td>8</td>\n",
       "      <td>803 Chaparral Court</td>\n",
       "      <td>Brawley, CA</td>\n",
       "      <td>48</td>\n",
       "      <td>5</td>\n",
       "      <td>2.1</td>\n",
       "      <td>2600</td>\n",
       "      <td>545000</td>\n",
       "      <td>0.0</td>\n",
       "      <td>5.809244</td>\n",
       "      <td>0.0</td>\n",
       "      <td>0.0</td>\n",
       "      <td>1.086153</td>\n",
       "    </tr>\n",
       "  </tbody>\n",
       "</table>\n",
       "</div>"
      ],
      "text/plain": [
       "   Unnamed: 0  image_id                 street          citi  n_citi  bed  \\\n",
       "0           1         1         124 C Street W   Brawley, CA      48    3   \n",
       "1           4         4  2207 R Carrillo Court  Calexico, CA      55    4   \n",
       "2           6         6    1100 CAMILIA Street  Calexico, CA      55    4   \n",
       "3           7         7    803 Chaparral Court   Brawley, CA      48    5   \n",
       "4           8         8    803 Chaparral Court   Brawley, CA      48    5   \n",
       "\n",
       "   bath  sqft   price  img_f1    img_f2  img_f3  img_f4    img_f5  \n",
       "0   2.0   713  228500     0.0  0.054457     0.0     0.0  0.167603  \n",
       "1   3.0  2547  385100     0.0  0.496700     0.0     0.0  0.479637  \n",
       "2   3.0  2769  415000     0.0  0.000000     0.0     0.0  0.000000  \n",
       "3   2.1  2600  545000     0.0  5.809244     0.0     0.0  1.086153  \n",
       "4   2.1  2600  545000     0.0  5.809244     0.0     0.0  1.086153  "
      ]
     },
     "execution_count": 4,
     "metadata": {},
     "output_type": "execute_result"
    }
   ],
   "source": [
    "df.head()"
   ]
  },
  {
   "cell_type": "markdown",
   "metadata": {},
   "source": [
    "Dropping Unnamed and Image id columns"
   ]
  },
  {
   "cell_type": "code",
   "execution_count": 5,
   "metadata": {},
   "outputs": [],
   "source": [
    "df = df.drop([\"Unnamed: 0\", \"image_id\"], axis=1)"
   ]
  },
  {
   "cell_type": "code",
   "execution_count": 6,
   "metadata": {},
   "outputs": [
    {
     "data": {
      "text/html": [
       "<div>\n",
       "<style scoped>\n",
       "    .dataframe tbody tr th:only-of-type {\n",
       "        vertical-align: middle;\n",
       "    }\n",
       "\n",
       "    .dataframe tbody tr th {\n",
       "        vertical-align: top;\n",
       "    }\n",
       "\n",
       "    .dataframe thead th {\n",
       "        text-align: right;\n",
       "    }\n",
       "</style>\n",
       "<table border=\"1\" class=\"dataframe\">\n",
       "  <thead>\n",
       "    <tr style=\"text-align: right;\">\n",
       "      <th></th>\n",
       "      <th>street</th>\n",
       "      <th>citi</th>\n",
       "      <th>n_citi</th>\n",
       "      <th>bed</th>\n",
       "      <th>bath</th>\n",
       "      <th>sqft</th>\n",
       "      <th>price</th>\n",
       "      <th>img_f1</th>\n",
       "      <th>img_f2</th>\n",
       "      <th>img_f3</th>\n",
       "      <th>img_f4</th>\n",
       "      <th>img_f5</th>\n",
       "    </tr>\n",
       "  </thead>\n",
       "  <tbody>\n",
       "    <tr>\n",
       "      <th>0</th>\n",
       "      <td>124 C Street W</td>\n",
       "      <td>Brawley, CA</td>\n",
       "      <td>48</td>\n",
       "      <td>3</td>\n",
       "      <td>2.0</td>\n",
       "      <td>713</td>\n",
       "      <td>228500</td>\n",
       "      <td>0.0</td>\n",
       "      <td>0.054457</td>\n",
       "      <td>0.0</td>\n",
       "      <td>0.0</td>\n",
       "      <td>0.167603</td>\n",
       "    </tr>\n",
       "    <tr>\n",
       "      <th>1</th>\n",
       "      <td>2207 R Carrillo Court</td>\n",
       "      <td>Calexico, CA</td>\n",
       "      <td>55</td>\n",
       "      <td>4</td>\n",
       "      <td>3.0</td>\n",
       "      <td>2547</td>\n",
       "      <td>385100</td>\n",
       "      <td>0.0</td>\n",
       "      <td>0.496700</td>\n",
       "      <td>0.0</td>\n",
       "      <td>0.0</td>\n",
       "      <td>0.479637</td>\n",
       "    </tr>\n",
       "    <tr>\n",
       "      <th>2</th>\n",
       "      <td>1100 CAMILIA Street</td>\n",
       "      <td>Calexico, CA</td>\n",
       "      <td>55</td>\n",
       "      <td>4</td>\n",
       "      <td>3.0</td>\n",
       "      <td>2769</td>\n",
       "      <td>415000</td>\n",
       "      <td>0.0</td>\n",
       "      <td>0.000000</td>\n",
       "      <td>0.0</td>\n",
       "      <td>0.0</td>\n",
       "      <td>0.000000</td>\n",
       "    </tr>\n",
       "    <tr>\n",
       "      <th>3</th>\n",
       "      <td>803 Chaparral Court</td>\n",
       "      <td>Brawley, CA</td>\n",
       "      <td>48</td>\n",
       "      <td>5</td>\n",
       "      <td>2.1</td>\n",
       "      <td>2600</td>\n",
       "      <td>545000</td>\n",
       "      <td>0.0</td>\n",
       "      <td>5.809244</td>\n",
       "      <td>0.0</td>\n",
       "      <td>0.0</td>\n",
       "      <td>1.086153</td>\n",
       "    </tr>\n",
       "    <tr>\n",
       "      <th>4</th>\n",
       "      <td>803 Chaparral Court</td>\n",
       "      <td>Brawley, CA</td>\n",
       "      <td>48</td>\n",
       "      <td>5</td>\n",
       "      <td>2.1</td>\n",
       "      <td>2600</td>\n",
       "      <td>545000</td>\n",
       "      <td>0.0</td>\n",
       "      <td>5.809244</td>\n",
       "      <td>0.0</td>\n",
       "      <td>0.0</td>\n",
       "      <td>1.086153</td>\n",
       "    </tr>\n",
       "  </tbody>\n",
       "</table>\n",
       "</div>"
      ],
      "text/plain": [
       "                  street          citi  n_citi  bed  bath  sqft   price  \\\n",
       "0         124 C Street W   Brawley, CA      48    3   2.0   713  228500   \n",
       "1  2207 R Carrillo Court  Calexico, CA      55    4   3.0  2547  385100   \n",
       "2    1100 CAMILIA Street  Calexico, CA      55    4   3.0  2769  415000   \n",
       "3    803 Chaparral Court   Brawley, CA      48    5   2.1  2600  545000   \n",
       "4    803 Chaparral Court   Brawley, CA      48    5   2.1  2600  545000   \n",
       "\n",
       "   img_f1    img_f2  img_f3  img_f4    img_f5  \n",
       "0     0.0  0.054457     0.0     0.0  0.167603  \n",
       "1     0.0  0.496700     0.0     0.0  0.479637  \n",
       "2     0.0  0.000000     0.0     0.0  0.000000  \n",
       "3     0.0  5.809244     0.0     0.0  1.086153  \n",
       "4     0.0  5.809244     0.0     0.0  1.086153  "
      ]
     },
     "execution_count": 6,
     "metadata": {},
     "output_type": "execute_result"
    }
   ],
   "source": [
    "df.head()"
   ]
  },
  {
   "cell_type": "markdown",
   "metadata": {},
   "source": [
    "Checking columns name"
   ]
  },
  {
   "cell_type": "code",
   "execution_count": 7,
   "metadata": {},
   "outputs": [
    {
     "data": {
      "text/plain": [
       "Index(['street', 'citi', 'n_citi', 'bed', 'bath', 'sqft', 'price', 'img_f1',\n",
       "       'img_f2', 'img_f3', 'img_f4', 'img_f5'],\n",
       "      dtype='object')"
      ]
     },
     "execution_count": 7,
     "metadata": {},
     "output_type": "execute_result"
    }
   ],
   "source": [
    "df.columns"
   ]
  },
  {
   "cell_type": "markdown",
   "metadata": {},
   "source": [
    "Checking the data types "
   ]
  },
  {
   "cell_type": "code",
   "execution_count": 8,
   "metadata": {},
   "outputs": [
    {
     "data": {
      "text/plain": [
       "street     object\n",
       "citi       object\n",
       "n_citi      int64\n",
       "bed         int64\n",
       "bath      float64\n",
       "sqft        int64\n",
       "price       int64\n",
       "img_f1    float64\n",
       "img_f2    float64\n",
       "img_f3    float64\n",
       "img_f4    float64\n",
       "img_f5    float64\n",
       "dtype: object"
      ]
     },
     "execution_count": 8,
     "metadata": {},
     "output_type": "execute_result"
    }
   ],
   "source": [
    "df.dtypes"
   ]
  },
  {
   "cell_type": "markdown",
   "metadata": {},
   "source": [
    "Displaying dataset stats"
   ]
  },
  {
   "cell_type": "code",
   "execution_count": 9,
   "metadata": {},
   "outputs": [
    {
     "data": {
      "text/html": [
       "<div>\n",
       "<style scoped>\n",
       "    .dataframe tbody tr th:only-of-type {\n",
       "        vertical-align: middle;\n",
       "    }\n",
       "\n",
       "    .dataframe tbody tr th {\n",
       "        vertical-align: top;\n",
       "    }\n",
       "\n",
       "    .dataframe thead th {\n",
       "        text-align: right;\n",
       "    }\n",
       "</style>\n",
       "<table border=\"1\" class=\"dataframe\">\n",
       "  <thead>\n",
       "    <tr style=\"text-align: right;\">\n",
       "      <th></th>\n",
       "      <th>n_citi</th>\n",
       "      <th>bed</th>\n",
       "      <th>bath</th>\n",
       "      <th>sqft</th>\n",
       "      <th>price</th>\n",
       "      <th>img_f1</th>\n",
       "      <th>img_f2</th>\n",
       "      <th>img_f3</th>\n",
       "      <th>img_f4</th>\n",
       "      <th>img_f5</th>\n",
       "    </tr>\n",
       "  </thead>\n",
       "  <tbody>\n",
       "    <tr>\n",
       "      <th>count</th>\n",
       "      <td>12518.000000</td>\n",
       "      <td>12518.000000</td>\n",
       "      <td>12518.000000</td>\n",
       "      <td>12518.000000</td>\n",
       "      <td>1.251800e+04</td>\n",
       "      <td>12518.0</td>\n",
       "      <td>12518.000000</td>\n",
       "      <td>12518.0</td>\n",
       "      <td>12518.0</td>\n",
       "      <td>12518.000000</td>\n",
       "    </tr>\n",
       "    <tr>\n",
       "      <th>mean</th>\n",
       "      <td>216.511104</td>\n",
       "      <td>3.549369</td>\n",
       "      <td>2.454034</td>\n",
       "      <td>2177.679981</td>\n",
       "      <td>6.853688e+05</td>\n",
       "      <td>0.0</td>\n",
       "      <td>1.249028</td>\n",
       "      <td>0.0</td>\n",
       "      <td>0.0</td>\n",
       "      <td>1.771966</td>\n",
       "    </tr>\n",
       "    <tr>\n",
       "      <th>std</th>\n",
       "      <td>113.610683</td>\n",
       "      <td>1.019620</td>\n",
       "      <td>0.963195</td>\n",
       "      <td>1024.045854</td>\n",
       "      <td>3.652546e+05</td>\n",
       "      <td>0.0</td>\n",
       "      <td>0.985993</td>\n",
       "      <td>0.0</td>\n",
       "      <td>0.0</td>\n",
       "      <td>1.446634</td>\n",
       "    </tr>\n",
       "    <tr>\n",
       "      <th>min</th>\n",
       "      <td>0.000000</td>\n",
       "      <td>1.000000</td>\n",
       "      <td>0.000000</td>\n",
       "      <td>352.000000</td>\n",
       "      <td>1.950000e+05</td>\n",
       "      <td>0.0</td>\n",
       "      <td>0.000000</td>\n",
       "      <td>0.0</td>\n",
       "      <td>0.0</td>\n",
       "      <td>0.000000</td>\n",
       "    </tr>\n",
       "    <tr>\n",
       "      <th>25%</th>\n",
       "      <td>118.000000</td>\n",
       "      <td>3.000000</td>\n",
       "      <td>2.000000</td>\n",
       "      <td>1431.000000</td>\n",
       "      <td>4.350000e+05</td>\n",
       "      <td>0.0</td>\n",
       "      <td>0.704102</td>\n",
       "      <td>0.0</td>\n",
       "      <td>0.0</td>\n",
       "      <td>0.727572</td>\n",
       "    </tr>\n",
       "    <tr>\n",
       "      <th>50%</th>\n",
       "      <td>225.000000</td>\n",
       "      <td>3.000000</td>\n",
       "      <td>2.100000</td>\n",
       "      <td>1949.000000</td>\n",
       "      <td>6.199000e+05</td>\n",
       "      <td>0.0</td>\n",
       "      <td>1.090853</td>\n",
       "      <td>0.0</td>\n",
       "      <td>0.0</td>\n",
       "      <td>1.649193</td>\n",
       "    </tr>\n",
       "    <tr>\n",
       "      <th>75%</th>\n",
       "      <td>313.000000</td>\n",
       "      <td>4.000000</td>\n",
       "      <td>3.000000</td>\n",
       "      <td>2744.750000</td>\n",
       "      <td>7.999000e+05</td>\n",
       "      <td>0.0</td>\n",
       "      <td>1.505452</td>\n",
       "      <td>0.0</td>\n",
       "      <td>0.0</td>\n",
       "      <td>2.013801</td>\n",
       "    </tr>\n",
       "    <tr>\n",
       "      <th>max</th>\n",
       "      <td>414.000000</td>\n",
       "      <td>12.000000</td>\n",
       "      <td>36.000000</td>\n",
       "      <td>17667.000000</td>\n",
       "      <td>2.000000e+06</td>\n",
       "      <td>0.0</td>\n",
       "      <td>8.099455</td>\n",
       "      <td>0.0</td>\n",
       "      <td>0.0</td>\n",
       "      <td>10.457992</td>\n",
       "    </tr>\n",
       "  </tbody>\n",
       "</table>\n",
       "</div>"
      ],
      "text/plain": [
       "             n_citi           bed          bath          sqft         price  \\\n",
       "count  12518.000000  12518.000000  12518.000000  12518.000000  1.251800e+04   \n",
       "mean     216.511104      3.549369      2.454034   2177.679981  6.853688e+05   \n",
       "std      113.610683      1.019620      0.963195   1024.045854  3.652546e+05   \n",
       "min        0.000000      1.000000      0.000000    352.000000  1.950000e+05   \n",
       "25%      118.000000      3.000000      2.000000   1431.000000  4.350000e+05   \n",
       "50%      225.000000      3.000000      2.100000   1949.000000  6.199000e+05   \n",
       "75%      313.000000      4.000000      3.000000   2744.750000  7.999000e+05   \n",
       "max      414.000000     12.000000     36.000000  17667.000000  2.000000e+06   \n",
       "\n",
       "        img_f1        img_f2   img_f3   img_f4        img_f5  \n",
       "count  12518.0  12518.000000  12518.0  12518.0  12518.000000  \n",
       "mean       0.0      1.249028      0.0      0.0      1.771966  \n",
       "std        0.0      0.985993      0.0      0.0      1.446634  \n",
       "min        0.0      0.000000      0.0      0.0      0.000000  \n",
       "25%        0.0      0.704102      0.0      0.0      0.727572  \n",
       "50%        0.0      1.090853      0.0      0.0      1.649193  \n",
       "75%        0.0      1.505452      0.0      0.0      2.013801  \n",
       "max        0.0      8.099455      0.0      0.0     10.457992  "
      ]
     },
     "execution_count": 9,
     "metadata": {},
     "output_type": "execute_result"
    }
   ],
   "source": [
    "df.describe()"
   ]
  },
  {
   "cell_type": "markdown",
   "metadata": {},
   "source": [
    "Plotting the correlation heatmap"
   ]
  },
  {
   "cell_type": "code",
   "execution_count": 10,
   "metadata": {},
   "outputs": [
    {
     "data": {
      "image/png": "[encoded data removed]",
      "text/plain": [
       "<Figure size 1500x1000 with 2 Axes>"
      ]
     },
     "metadata": {},
     "output_type": "display_data"
    }
   ],
   "source": [
    "plt.figure(figsize=(15,10))\n",
    "sns.heatmap(df.corr(numeric_only=True), annot=True)\n",
    "plt.show()"
   ]
  },
  {
   "cell_type": "markdown",
   "metadata": {},
   "source": [
    "Insights :- \n",
    "\n",
    " **•** We can see that the independent features are having good amount of correlation.\n",
    " \n",
    " **•** Feature img_f1, img_f3 and img_f4 are not correlated with the target feature so we are going to remove those features."
   ]
  },
  {
   "cell_type": "markdown",
   "metadata": {},
   "source": [
    "**Removing img_f1, img_f3 and img_f4**"
   ]
  },
  {
   "cell_type": "code",
   "execution_count": 11,
   "metadata": {},
   "outputs": [],
   "source": [
    "df = df.drop(['img_f1', 'img_f3', 'img_f4'], axis=1)"
   ]
  },
  {
   "cell_type": "code",
   "execution_count": 12,
   "metadata": {},
   "outputs": [
    {
     "data": {
      "text/html": [
       "<div>\n",
       "<style scoped>\n",
       "    .dataframe tbody tr th:only-of-type {\n",
       "        vertical-align: middle;\n",
       "    }\n",
       "\n",
       "    .dataframe tbody tr th {\n",
       "        vertical-align: top;\n",
       "    }\n",
       "\n",
       "    .dataframe thead th {\n",
       "        text-align: right;\n",
       "    }\n",
       "</style>\n",
       "<table border=\"1\" class=\"dataframe\">\n",
       "  <thead>\n",
       "    <tr style=\"text-align: right;\">\n",
       "      <th></th>\n",
       "      <th>street</th>\n",
       "      <th>citi</th>\n",
       "      <th>n_citi</th>\n",
       "      <th>bed</th>\n",
       "      <th>bath</th>\n",
       "      <th>sqft</th>\n",
       "      <th>price</th>\n",
       "      <th>img_f2</th>\n",
       "      <th>img_f5</th>\n",
       "    </tr>\n",
       "  </thead>\n",
       "  <tbody>\n",
       "    <tr>\n",
       "      <th>0</th>\n",
       "      <td>124 C Street W</td>\n",
       "      <td>Brawley, CA</td>\n",
       "      <td>48</td>\n",
       "      <td>3</td>\n",
       "      <td>2.0</td>\n",
       "      <td>713</td>\n",
       "      <td>228500</td>\n",
       "      <td>0.054457</td>\n",
       "      <td>0.167603</td>\n",
       "    </tr>\n",
       "    <tr>\n",
       "      <th>1</th>\n",
       "      <td>2207 R Carrillo Court</td>\n",
       "      <td>Calexico, CA</td>\n",
       "      <td>55</td>\n",
       "      <td>4</td>\n",
       "      <td>3.0</td>\n",
       "      <td>2547</td>\n",
       "      <td>385100</td>\n",
       "      <td>0.496700</td>\n",
       "      <td>0.479637</td>\n",
       "    </tr>\n",
       "    <tr>\n",
       "      <th>2</th>\n",
       "      <td>1100 CAMILIA Street</td>\n",
       "      <td>Calexico, CA</td>\n",
       "      <td>55</td>\n",
       "      <td>4</td>\n",
       "      <td>3.0</td>\n",
       "      <td>2769</td>\n",
       "      <td>415000</td>\n",
       "      <td>0.000000</td>\n",
       "      <td>0.000000</td>\n",
       "    </tr>\n",
       "    <tr>\n",
       "      <th>3</th>\n",
       "      <td>803 Chaparral Court</td>\n",
       "      <td>Brawley, CA</td>\n",
       "      <td>48</td>\n",
       "      <td>5</td>\n",
       "      <td>2.1</td>\n",
       "      <td>2600</td>\n",
       "      <td>545000</td>\n",
       "      <td>5.809244</td>\n",
       "      <td>1.086153</td>\n",
       "    </tr>\n",
       "    <tr>\n",
       "      <th>4</th>\n",
       "      <td>803 Chaparral Court</td>\n",
       "      <td>Brawley, CA</td>\n",
       "      <td>48</td>\n",
       "      <td>5</td>\n",
       "      <td>2.1</td>\n",
       "      <td>2600</td>\n",
       "      <td>545000</td>\n",
       "      <td>5.809244</td>\n",
       "      <td>1.086153</td>\n",
       "    </tr>\n",
       "  </tbody>\n",
       "</table>\n",
       "</div>"
      ],
      "text/plain": [
       "                  street          citi  n_citi  bed  bath  sqft   price  \\\n",
       "0         124 C Street W   Brawley, CA      48    3   2.0   713  228500   \n",
       "1  2207 R Carrillo Court  Calexico, CA      55    4   3.0  2547  385100   \n",
       "2    1100 CAMILIA Street  Calexico, CA      55    4   3.0  2769  415000   \n",
       "3    803 Chaparral Court   Brawley, CA      48    5   2.1  2600  545000   \n",
       "4    803 Chaparral Court   Brawley, CA      48    5   2.1  2600  545000   \n",
       "\n",
       "     img_f2    img_f5  \n",
       "0  0.054457  0.167603  \n",
       "1  0.496700  0.479637  \n",
       "2  0.000000  0.000000  \n",
       "3  5.809244  1.086153  \n",
       "4  5.809244  1.086153  "
      ]
     },
     "execution_count": 12,
     "metadata": {},
     "output_type": "execute_result"
    }
   ],
   "source": [
    "df.head()"
   ]
  },
  {
   "cell_type": "markdown",
   "metadata": {},
   "source": [
    "**Plotting the data distributions**"
   ]
  },
  {
   "cell_type": "code",
   "execution_count": 13,
   "metadata": {},
   "outputs": [
    {
     "data": {
      "image/png": "[encoded data removed]",
      "text/plain": [
       "<Figure size 1500x1000 with 9 Axes>"
      ]
     },
     "metadata": {},
     "output_type": "display_data"
    }
   ],
   "source": [
    "df.hist(bins=50, figsize=(15,10))\n",
    "plt.show()"
   ]
  },
  {
   "cell_type": "markdown",
   "metadata": {},
   "source": [
    "Insights :- \n",
    "\n",
    "**•**  Most of the continuous features are right skewed i.e sqft, price, img_f2, img_f5.\n",
    "\n",
    "**•** The price feature has some outliers as we can see from that the distribution.\n",
    "\n",
    "**•** The n_citi feature has nearly a uniform distribution.\n"
   ]
  },
  {
   "cell_type": "markdown",
   "metadata": {},
   "source": [
    "**Displaying the skewness in the dataset**"
   ]
  },
  {
   "cell_type": "code",
   "execution_count": 14,
   "metadata": {},
   "outputs": [
    {
     "data": {
      "text/plain": [
       "n_citi   -0.133421\n",
       "bed       0.568414\n",
       "price     1.417599\n",
       "sqft      1.500091\n",
       "img_f5    1.964599\n",
       "img_f2    2.926490\n",
       "bath      4.313801\n",
       "dtype: float64"
      ]
     },
     "execution_count": 14,
     "metadata": {},
     "output_type": "execute_result"
    }
   ],
   "source": [
    "df.skew(numeric_only=True).sort_values(ascending=True)"
   ]
  },
  {
   "cell_type": "markdown",
   "metadata": {},
   "source": [
    "**Plotting the box plot**"
   ]
  },
  {
   "cell_type": "code",
   "execution_count": 15,
   "metadata": {},
   "outputs": [
    {
     "data": {
      "image/png": "[encoded data removed]",
      "text/plain": [
       "<Figure size 1500x1000 with 1 Axes>"
      ]
     },
     "metadata": {},
     "output_type": "display_data"
    }
   ],
   "source": [
    "df.boxplot(figsize=(15,10))\n",
    "plt.show()"
   ]
  },
  {
   "cell_type": "markdown",
   "metadata": {},
   "source": [
    "Insights :-\n",
    "\n",
    "**•** As we can see that price feature has significant amount of outliers"
   ]
  },
  {
   "cell_type": "markdown",
   "metadata": {},
   "source": [
    "**Handling price feature outliers**"
   ]
  },
  {
   "cell_type": "code",
   "execution_count": 16,
   "metadata": {},
   "outputs": [],
   "source": [
    "q1 = df[\"price\"].quantile(0.25)\n",
    "q3 = df[\"price\"].quantile(0.75)"
   ]
  },
  {
   "cell_type": "code",
   "execution_count": 17,
   "metadata": {},
   "outputs": [],
   "source": [
    "iqr = q3-q1"
   ]
  },
  {
   "cell_type": "code",
   "execution_count": 18,
   "metadata": {},
   "outputs": [
    {
     "name": "stdout",
     "output_type": "stream",
     "text": [
      "upper limit 1347250.0 and lower limit -112350.0\n"
     ]
    }
   ],
   "source": [
    "upper_limit = q3 + 1.5*iqr\n",
    "lower_limit = q1 - 1.5*iqr\n",
    "\n",
    "print(f\"upper limit {upper_limit} and lower limit {lower_limit}\")"
   ]
  },
  {
   "cell_type": "code",
   "execution_count": 19,
   "metadata": {},
   "outputs": [
    {
     "data": {
      "text/html": [
       "<div>\n",
       "<style scoped>\n",
       "    .dataframe tbody tr th:only-of-type {\n",
       "        vertical-align: middle;\n",
       "    }\n",
       "\n",
       "    .dataframe tbody tr th {\n",
       "        vertical-align: top;\n",
       "    }\n",
       "\n",
       "    .dataframe thead th {\n",
       "        text-align: right;\n",
       "    }\n",
       "</style>\n",
       "<table border=\"1\" class=\"dataframe\">\n",
       "  <thead>\n",
       "    <tr style=\"text-align: right;\">\n",
       "      <th></th>\n",
       "      <th>street</th>\n",
       "      <th>citi</th>\n",
       "      <th>n_citi</th>\n",
       "      <th>bed</th>\n",
       "      <th>bath</th>\n",
       "      <th>sqft</th>\n",
       "      <th>price</th>\n",
       "      <th>img_f2</th>\n",
       "      <th>img_f5</th>\n",
       "    </tr>\n",
       "  </thead>\n",
       "  <tbody>\n",
       "    <tr>\n",
       "      <th>6</th>\n",
       "      <td>38833 Gorman Post Road</td>\n",
       "      <td>Gorman, CA</td>\n",
       "      <td>129</td>\n",
       "      <td>3</td>\n",
       "      <td>2.1</td>\n",
       "      <td>4044</td>\n",
       "      <td>1350000</td>\n",
       "      <td>1.485596</td>\n",
       "      <td>2.244711</td>\n",
       "    </tr>\n",
       "    <tr>\n",
       "      <th>7</th>\n",
       "      <td>8072 Cuddy Valley Road</td>\n",
       "      <td>Frazier Park, CA</td>\n",
       "      <td>122</td>\n",
       "      <td>5</td>\n",
       "      <td>5.1</td>\n",
       "      <td>6247</td>\n",
       "      <td>1499000</td>\n",
       "      <td>1.459372</td>\n",
       "      <td>1.851819</td>\n",
       "    </tr>\n",
       "    <tr>\n",
       "      <th>8</th>\n",
       "      <td>8072 Cuddy Valley Road</td>\n",
       "      <td>Frazier Park, CA</td>\n",
       "      <td>122</td>\n",
       "      <td>5</td>\n",
       "      <td>5.1</td>\n",
       "      <td>6247</td>\n",
       "      <td>1499000</td>\n",
       "      <td>1.459372</td>\n",
       "      <td>1.851819</td>\n",
       "    </tr>\n",
       "    <tr>\n",
       "      <th>9</th>\n",
       "      <td>11265 Steinhoff Road</td>\n",
       "      <td>Frazier Park, CA</td>\n",
       "      <td>122</td>\n",
       "      <td>3</td>\n",
       "      <td>3.1</td>\n",
       "      <td>4597</td>\n",
       "      <td>1550000</td>\n",
       "      <td>0.946525</td>\n",
       "      <td>2.051827</td>\n",
       "    </tr>\n",
       "    <tr>\n",
       "      <th>10</th>\n",
       "      <td>12471 Boy Scout Camp Road</td>\n",
       "      <td>Frazier Park, CA</td>\n",
       "      <td>122</td>\n",
       "      <td>8</td>\n",
       "      <td>3.1</td>\n",
       "      <td>4236</td>\n",
       "      <td>1850000</td>\n",
       "      <td>0.739510</td>\n",
       "      <td>2.487626</td>\n",
       "    </tr>\n",
       "    <tr>\n",
       "      <th>...</th>\n",
       "      <td>...</td>\n",
       "      <td>...</td>\n",
       "      <td>...</td>\n",
       "      <td>...</td>\n",
       "      <td>...</td>\n",
       "      <td>...</td>\n",
       "      <td>...</td>\n",
       "      <td>...</td>\n",
       "      <td>...</td>\n",
       "    </tr>\n",
       "    <tr>\n",
       "      <th>11933</th>\n",
       "      <td>31601 Germaine Lane</td>\n",
       "      <td>Westlake Village, CA</td>\n",
       "      <td>401</td>\n",
       "      <td>5</td>\n",
       "      <td>6.0</td>\n",
       "      <td>5915</td>\n",
       "      <td>1699000</td>\n",
       "      <td>0.989802</td>\n",
       "      <td>1.956346</td>\n",
       "    </tr>\n",
       "    <tr>\n",
       "      <th>11934</th>\n",
       "      <td>1967 Hathaway Avenue</td>\n",
       "      <td>Westlake Village, CA</td>\n",
       "      <td>401</td>\n",
       "      <td>5</td>\n",
       "      <td>5.1</td>\n",
       "      <td>5718</td>\n",
       "      <td>1825000</td>\n",
       "      <td>2.248679</td>\n",
       "      <td>5.008658</td>\n",
       "    </tr>\n",
       "    <tr>\n",
       "      <th>11935</th>\n",
       "      <td>1370 Cuyama Road</td>\n",
       "      <td>Ojai, CA</td>\n",
       "      <td>257</td>\n",
       "      <td>3</td>\n",
       "      <td>3.0</td>\n",
       "      <td>2490</td>\n",
       "      <td>1500000</td>\n",
       "      <td>0.546435</td>\n",
       "      <td>0.222240</td>\n",
       "    </tr>\n",
       "    <tr>\n",
       "      <th>11936</th>\n",
       "      <td>14859 Telegraph Road</td>\n",
       "      <td>Santa Paula, CA</td>\n",
       "      <td>338</td>\n",
       "      <td>7</td>\n",
       "      <td>5.1</td>\n",
       "      <td>5450</td>\n",
       "      <td>1595000</td>\n",
       "      <td>0.502249</td>\n",
       "      <td>1.632231</td>\n",
       "    </tr>\n",
       "    <tr>\n",
       "      <th>11937</th>\n",
       "      <td>2151 Brittany Park Road</td>\n",
       "      <td>Camarillo, CA</td>\n",
       "      <td>59</td>\n",
       "      <td>5</td>\n",
       "      <td>6.0</td>\n",
       "      <td>5333</td>\n",
       "      <td>1749000</td>\n",
       "      <td>0.560077</td>\n",
       "      <td>1.424580</td>\n",
       "    </tr>\n",
       "  </tbody>\n",
       "</table>\n",
       "<p>947 rows × 9 columns</p>\n",
       "</div>"
      ],
      "text/plain": [
       "                          street                  citi  n_citi  bed  bath  \\\n",
       "6         38833 Gorman Post Road            Gorman, CA     129    3   2.1   \n",
       "7         8072 Cuddy Valley Road      Frazier Park, CA     122    5   5.1   \n",
       "8         8072 Cuddy Valley Road      Frazier Park, CA     122    5   5.1   \n",
       "9           11265 Steinhoff Road      Frazier Park, CA     122    3   3.1   \n",
       "10     12471 Boy Scout Camp Road      Frazier Park, CA     122    8   3.1   \n",
       "...                          ...                   ...     ...  ...   ...   \n",
       "11933        31601 Germaine Lane  Westlake Village, CA     401    5   6.0   \n",
       "11934       1967 Hathaway Avenue  Westlake Village, CA     401    5   5.1   \n",
       "11935           1370 Cuyama Road              Ojai, CA     257    3   3.0   \n",
       "11936       14859 Telegraph Road       Santa Paula, CA     338    7   5.1   \n",
       "11937    2151 Brittany Park Road         Camarillo, CA      59    5   6.0   \n",
       "\n",
       "       sqft    price    img_f2    img_f5  \n",
       "6      4044  1350000  1.485596  2.244711  \n",
       "7      6247  1499000  1.459372  1.851819  \n",
       "8      6247  1499000  1.459372  1.851819  \n",
       "9      4597  1550000  0.946525  2.051827  \n",
       "10     4236  1850000  0.739510  2.487626  \n",
       "...     ...      ...       ...       ...  \n",
       "11933  5915  1699000  0.989802  1.956346  \n",
       "11934  5718  1825000  2.248679  5.008658  \n",
       "11935  2490  1500000  0.546435  0.222240  \n",
       "11936  5450  1595000  0.502249  1.632231  \n",
       "11937  5333  1749000  0.560077  1.424580  \n",
       "\n",
       "[947 rows x 9 columns]"
      ]
     },
     "execution_count": 19,
     "metadata": {},
     "output_type": "execute_result"
    }
   ],
   "source": [
    "df[df[\"price\"]>upper_limit]"
   ]
  },
  {
   "cell_type": "code",
   "execution_count": 31,
   "metadata": {},
   "outputs": [
    {
     "data": {
      "text/plain": [
       "(11571, 9)"
      ]
     },
     "execution_count": 31,
     "metadata": {},
     "output_type": "execute_result"
    }
   ],
   "source": [
    "new_df = df[df[\"price\"]<upper_limit]\n",
    "new_df.shape"
   ]
  },
  {
   "cell_type": "code",
   "execution_count": 21,
   "metadata": {},
   "outputs": [
    {
     "data": {
      "text/plain": [
       "<Axes: >"
      ]
     },
     "execution_count": 21,
     "metadata": {},
     "output_type": "execute_result"
    },
    {
     "data": {
      "image/png": "[encoded data removed]",
      "text/plain": [
       "<Figure size 640x480 with 1 Axes>"
      ]
     },
     "metadata": {},
     "output_type": "display_data"
    }
   ],
   "source": [
    "sns.boxplot(data=new_df[\"price\"])"
   ]
  },
  {
   "cell_type": "markdown",
   "metadata": {},
   "source": [
    "**Adding the img_f2 and img_f5 feature to make new feature**"
   ]
  },
  {
   "cell_type": "code",
   "execution_count": 34,
   "metadata": {},
   "outputs": [],
   "source": [
    "new_df[\"img_features\"] = new_df[\"img_f2\"] + new_df[\"img_f5\"]"
   ]
  },
  {
   "cell_type": "code",
   "execution_count": 35,
   "metadata": {},
   "outputs": [],
   "source": [
    "new_df = new_df.drop([\"img_f2\", \"img_f5\"], axis=1)"
   ]
  },
  {
   "cell_type": "code",
   "execution_count": 24,
   "metadata": {},
   "outputs": [],
   "source": [
    "new_df = new_df.reset_index()"
   ]
  },
  {
   "cell_type": "code",
   "execution_count": 37,
   "metadata": {},
   "outputs": [
    {
     "data": {
      "text/html": [
       "<div>\n",
       "<style scoped>\n",
       "    .dataframe tbody tr th:only-of-type {\n",
       "        vertical-align: middle;\n",
       "    }\n",
       "\n",
       "    .dataframe tbody tr th {\n",
       "        vertical-align: top;\n",
       "    }\n",
       "\n",
       "    .dataframe thead th {\n",
       "        text-align: right;\n",
       "    }\n",
       "</style>\n",
       "<table border=\"1\" class=\"dataframe\">\n",
       "  <thead>\n",
       "    <tr style=\"text-align: right;\">\n",
       "      <th></th>\n",
       "      <th>n_citi</th>\n",
       "      <th>bath</th>\n",
       "      <th>sqft</th>\n",
       "      <th>img_features</th>\n",
       "      <th>price</th>\n",
       "    </tr>\n",
       "  </thead>\n",
       "  <tbody>\n",
       "    <tr>\n",
       "      <th>0</th>\n",
       "      <td>48</td>\n",
       "      <td>2.0</td>\n",
       "      <td>713</td>\n",
       "      <td>0.222060</td>\n",
       "      <td>228500</td>\n",
       "    </tr>\n",
       "    <tr>\n",
       "      <th>1</th>\n",
       "      <td>55</td>\n",
       "      <td>3.0</td>\n",
       "      <td>2547</td>\n",
       "      <td>0.976337</td>\n",
       "      <td>385100</td>\n",
       "    </tr>\n",
       "    <tr>\n",
       "      <th>2</th>\n",
       "      <td>55</td>\n",
       "      <td>3.0</td>\n",
       "      <td>2769</td>\n",
       "      <td>0.000000</td>\n",
       "      <td>415000</td>\n",
       "    </tr>\n",
       "    <tr>\n",
       "      <th>3</th>\n",
       "      <td>48</td>\n",
       "      <td>2.1</td>\n",
       "      <td>2600</td>\n",
       "      <td>6.895397</td>\n",
       "      <td>545000</td>\n",
       "    </tr>\n",
       "    <tr>\n",
       "      <th>4</th>\n",
       "      <td>48</td>\n",
       "      <td>2.1</td>\n",
       "      <td>2600</td>\n",
       "      <td>6.895397</td>\n",
       "      <td>545000</td>\n",
       "    </tr>\n",
       "  </tbody>\n",
       "</table>\n",
       "</div>"
      ],
      "text/plain": [
       "   n_citi  bath  sqft  img_features   price\n",
       "0      48   2.0   713      0.222060  228500\n",
       "1      55   3.0  2547      0.976337  385100\n",
       "2      55   3.0  2769      0.000000  415000\n",
       "3      48   2.1  2600      6.895397  545000\n",
       "4      48   2.1  2600      6.895397  545000"
      ]
     },
     "execution_count": 37,
     "metadata": {},
     "output_type": "execute_result"
    }
   ],
   "source": [
    "new_df.head()"
   ]
  },
  {
   "cell_type": "code",
   "execution_count": null,
   "metadata": {},
   "outputs": [],
   "source": []
  },
  {
   "cell_type": "code",
   "execution_count": null,
   "metadata": {},
   "outputs": [],
   "source": []
  },
  {
   "cell_type": "code",
   "execution_count": null,
   "metadata": {},
   "outputs": [],
   "source": []
  },
  {
   "cell_type": "code",
   "execution_count": null,
   "metadata": {},
   "outputs": [],
   "source": []
  },
  {
   "cell_type": "code",
   "execution_count": null,
   "metadata": {},
   "outputs": [],
   "source": []
  },
  {
   "cell_type": "code",
   "execution_count": null,
   "metadata": {},
   "outputs": [],
   "source": []
  },
  {
   "cell_type": "code",
   "execution_count": null,
   "metadata": {},
   "outputs": [],
   "source": []
  },
  {
   "cell_type": "code",
   "execution_count": null,
   "metadata": {},
   "outputs": [],
   "source": []
  },
  {
   "cell_type": "code",
   "execution_count": null,
   "metadata": {},
   "outputs": [],
   "source": []
  },
  {
   "cell_type": "code",
   "execution_count": null,
   "metadata": {},
   "outputs": [],
   "source": []
  },
  {
   "cell_type": "code",
   "execution_count": null,
   "metadata": {},
   "outputs": [],
   "source": []
  },
  {
   "cell_type": "code",
   "execution_count": null,
   "metadata": {},
   "outputs": [],
   "source": []
  },
  {
   "cell_type": "code",
   "execution_count": null,
   "metadata": {},
   "outputs": [],
   "source": []
  }
 ],
 "metadata": {
  "kernelspec": {
   "display_name": "venv",
   "language": "python",
   "name": "python3"
  },
  "language_info": {
   "codemirror_mode": {
    "name": "ipython",
    "version": 3
   },
   "file_extension": ".py",
   "mimetype": "text/x-python",
   "name": "python",
   "nbconvert_exporter": "python",
   "pygments_lexer": "ipython3",
   "version": "3.11.3"
  },
  "orig_nbformat": 4
 },
 "nbformat": 4,
 "nbformat_minor": 2
}
